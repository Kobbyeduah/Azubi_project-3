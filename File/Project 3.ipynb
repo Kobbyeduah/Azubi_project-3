{
 "cells": [
  {
   "attachments": {},
   "cell_type": "markdown",
   "id": "4f102d5b",
   "metadata": {},
   "source": []
  },
  {
   "cell_type": "code",
   "execution_count": 23,
   "id": "b0ca1e6e",
   "metadata": {},
   "outputs": [],
   "source": [
    "import numpy as np\n",
    "import pandas as pd"
   ]
  },
  {
   "cell_type": "code",
   "execution_count": 10,
   "id": "f333df7d",
   "metadata": {},
   "outputs": [
    {
     "data": {
      "text/plain": [
       "array([  1,   2,   3,   4,   5,   6,   7,   8,   9,  10,  11,  12,  13,\n",
       "        14,  15,  16,  17,  18,  19,  20,  21,  22,  23,  24,  25,  26,\n",
       "        27,  28,  29,  30,  31,  32,  33,  34,  35,  36,  37,  38,  39,\n",
       "        40,  41,  42,  43,  44,  45,  46,  47,  48,  49,  50,  51,  52,\n",
       "        53,  54,  55,  56,  57,  58,  59,  60,  61,  62,  63,  64,  65,\n",
       "        66,  67,  68,  69,  70,  71,  72,  73,  74,  75,  76,  77,  78,\n",
       "        79,  80,  81,  82,  83,  84,  85,  86,  87,  88,  89,  90,  91,\n",
       "        92,  93,  94,  95,  96,  97,  98,  99, 100])"
      ]
     },
     "execution_count": 10,
     "metadata": {},
     "output_type": "execute_result"
    }
   ],
   "source": [
    "Student_ID = np.arange(1, 101)\n",
    "Student_ID"
   ]
  },
  {
   "cell_type": "code",
   "execution_count": 11,
   "id": "3c596b35",
   "metadata": {},
   "outputs": [
    {
     "data": {
      "text/plain": [
       "array([1, 0, 0, 0, 1, 1, 1, 1, 1, 1, 1, 0, 1, 0, 0, 0, 0, 1, 1, 1, 0, 0,\n",
       "       0, 1, 0, 1, 1, 0, 1, 1, 0, 1, 0, 0, 0, 0, 1, 0, 0, 1, 0, 1, 1, 1,\n",
       "       0, 0, 0, 1, 1, 0, 1, 0, 1, 0, 0, 1, 0, 0, 0, 1, 1, 0, 0, 0, 0, 1,\n",
       "       1, 1, 0, 0, 1, 0, 0, 0, 1, 0, 0, 1, 0, 0, 1, 0, 1, 0, 1, 1, 0, 0,\n",
       "       0, 1, 1, 0, 0, 1, 1, 0, 1, 0, 1, 1])"
      ]
     },
     "execution_count": 11,
     "metadata": {},
     "output_type": "execute_result"
    }
   ],
   "source": [
    "Sex = np.random.randint(0,2, size = 100)\n",
    "Sex   "
   ]
  },
  {
   "cell_type": "code",
   "execution_count": 12,
   "id": "3c6abe17",
   "metadata": {},
   "outputs": [
    {
     "data": {
      "text/plain": [
       "array([32, 49, 27, 25, 47, 37, 68, 70, 81, 83, 17, 15,  9, 34, 24, 19, 82,\n",
       "       13, 64, 28, 42, 20, 64, 27, 42, 68, 54, 19, 17, 46, 99, 23, 49, 89,\n",
       "       82, 51,  8, 38, 69, 43, 83, 26, 20, 29, 82, 12, 25,  9, 50, 54, 44,\n",
       "       69, 42, 91, 53, 23, 68, 18, 24, 75, 91, 81, 21, 52,  5, 24, 13, 11,\n",
       "       22, 16, 91, 66, 15,  1, 48, 74, 86, 53, 63, 66, 91, 72, 70, 53, 84,\n",
       "       66, 69, 60, 65, 59, 56,  6, 46, 90, 14, 21, 63, 52, 16, 66])"
      ]
     },
     "execution_count": 12,
     "metadata": {},
     "output_type": "execute_result"
    }
   ],
   "source": [
    "Math_Score = np.random.randint(0, 101, size = 100)\n",
    "Math_Score"
   ]
  },
  {
   "cell_type": "code",
   "execution_count": 28,
   "id": "1d7a8ecc",
   "metadata": {},
   "outputs": [
    {
     "data": {
      "text/html": [
       "<div>\n",
       "<style scoped>\n",
       "    .dataframe tbody tr th:only-of-type {\n",
       "        vertical-align: middle;\n",
       "    }\n",
       "\n",
       "    .dataframe tbody tr th {\n",
       "        vertical-align: top;\n",
       "    }\n",
       "\n",
       "    .dataframe thead th {\n",
       "        text-align: right;\n",
       "    }\n",
       "</style>\n",
       "<table border=\"1\" class=\"dataframe\">\n",
       "  <thead>\n",
       "    <tr style=\"text-align: right;\">\n",
       "      <th></th>\n",
       "      <th>Student ID</th>\n",
       "      <th>Sex</th>\n",
       "      <th>Math Score</th>\n",
       "    </tr>\n",
       "  </thead>\n",
       "  <tbody>\n",
       "    <tr>\n",
       "      <th>0</th>\n",
       "      <td>1</td>\n",
       "      <td>1</td>\n",
       "      <td>32</td>\n",
       "    </tr>\n",
       "    <tr>\n",
       "      <th>1</th>\n",
       "      <td>2</td>\n",
       "      <td>0</td>\n",
       "      <td>49</td>\n",
       "    </tr>\n",
       "    <tr>\n",
       "      <th>2</th>\n",
       "      <td>3</td>\n",
       "      <td>0</td>\n",
       "      <td>27</td>\n",
       "    </tr>\n",
       "    <tr>\n",
       "      <th>3</th>\n",
       "      <td>4</td>\n",
       "      <td>0</td>\n",
       "      <td>25</td>\n",
       "    </tr>\n",
       "    <tr>\n",
       "      <th>4</th>\n",
       "      <td>5</td>\n",
       "      <td>1</td>\n",
       "      <td>47</td>\n",
       "    </tr>\n",
       "  </tbody>\n",
       "</table>\n",
       "</div>"
      ],
      "text/plain": [
       "   Student ID  Sex  Math Score\n",
       "0           1    1          32\n",
       "1           2    0          49\n",
       "2           3    0          27\n",
       "3           4    0          25\n",
       "4           5    1          47"
      ]
     },
     "execution_count": 28,
     "metadata": {},
     "output_type": "execute_result"
    }
   ],
   "source": [
    "student_data = np.column_stack((Student_ID, Sex,Math_Score))\n",
    "\n",
    "\n",
    "df = pd.DataFrame({\n",
    "    \"Student ID\": Student_ID,\n",
    "    \"Sex\": Sex,\n",
    "    \"Math Score\": Math_Score\n",
    "})\n",
    "\n",
    "# display the DataFrame\n",
    "df[0:5]\n",
    "\n"
   ]
  },
  {
   "cell_type": "markdown",
   "id": "4f29cfc4",
   "metadata": {},
   "source": [
    "## Mean of scores "
   ]
  },
  {
   "cell_type": "code",
   "execution_count": 29,
   "id": "598bb7c1",
   "metadata": {},
   "outputs": [
    {
     "name": "stdout",
     "output_type": "stream",
     "text": [
      "Mean of Student is: 46.89\n"
     ]
    }
   ],
   "source": [
    "Mean = np.mean(student_data[:,2])\n",
    "print(\"Mean of Student is:\", Mean)\n"
   ]
  },
  {
   "cell_type": "markdown",
   "id": "ef14b3f1",
   "metadata": {},
   "source": [
    "## Median score"
   ]
  },
  {
   "cell_type": "code",
   "execution_count": 55,
   "id": "2a4ff768",
   "metadata": {},
   "outputs": [
    {
     "name": "stdout",
     "output_type": "stream",
     "text": [
      "Median of Student is : 44.0\n"
     ]
    }
   ],
   "source": [
    "median = np.median(student_data[:,2])\n",
    "print(\"Median of Student is :\", median)\n"
   ]
  },
  {
   "cell_type": "markdown",
   "id": "5e953ef7",
   "metadata": {},
   "source": [
    "## Standard Deviation "
   ]
  },
  {
   "cell_type": "code",
   "execution_count": 14,
   "id": "87be99c6",
   "metadata": {},
   "outputs": [
    {
     "name": "stdout",
     "output_type": "stream",
     "text": [
      "Standard deviation of Student is : 26.240767900349255\n"
     ]
    }
   ],
   "source": [
    "Std = np.std((student_data[:,2]))\n",
    "print(\"Standard deviation of Student is :\", Std)"
   ]
  },
  {
   "cell_type": "markdown",
   "id": "1fb0661c",
   "metadata": {},
   "source": [
    "## Highest score"
   ]
  },
  {
   "cell_type": "code",
   "execution_count": 57,
   "id": "07b7cb34",
   "metadata": {},
   "outputs": [
    {
     "name": "stdout",
     "output_type": "stream",
     "text": [
      "The highest Student Scroed : 98\n"
     ]
    }
   ],
   "source": [
    "Max = np.max((student_data[:,2]))\n",
    "print(\"The highest Student Scored :\", Max)\n"
   ]
  },
  {
   "cell_type": "markdown",
   "id": "a05d674d",
   "metadata": {},
   "source": [
    "## Lowest score"
   ]
  },
  {
   "cell_type": "code",
   "execution_count": 15,
   "id": "eda3d373",
   "metadata": {},
   "outputs": [
    {
     "name": "stdout",
     "output_type": "stream",
     "text": [
      "The Student with the lowest Score: 1\n"
     ]
    }
   ],
   "source": [
    "Lowest = np.min((student_data[:,2]))\n",
    "print(\"The Student with the lowest Score:\", Lowest)"
   ]
  },
  {
   "cell_type": "markdown",
   "id": "1b581a4e",
   "metadata": {},
   "source": [
    "## Total number male"
   ]
  },
  {
   "cell_type": "code",
   "execution_count": 16,
   "id": "33b38f46",
   "metadata": {},
   "outputs": [
    {
     "name": "stdout",
     "output_type": "stream",
     "text": [
      "Total number of males: 47\n"
     ]
    }
   ],
   "source": [
    "# 1 Represent males\n",
    "\n",
    "Total_Male  = np.count_nonzero((student_data[:,1] == 1))\n",
    "\n",
    "print(\"Total number of males:\", Total_Male)\n"
   ]
  },
  {
   "cell_type": "markdown",
   "id": "9a588ec0",
   "metadata": {},
   "source": [
    "## Total number Females "
   ]
  },
  {
   "cell_type": "code",
   "execution_count": 17,
   "id": "00e8871f",
   "metadata": {},
   "outputs": [
    {
     "name": "stdout",
     "output_type": "stream",
     "text": [
      "Total number of males: 53\n"
     ]
    }
   ],
   "source": [
    "Total_Female = np.count_nonzero((student_data[:,1] == 0))\n",
    "\n",
    "print(\"Total number of males:\", Total_Female)"
   ]
  },
  {
   "cell_type": "markdown",
   "id": "143b3992",
   "metadata": {},
   "source": [
    "\n",
    "## Top 10 Male Student \n",
    "\n"
   ]
  },
  {
   "cell_type": "code",
   "execution_count": 39,
   "id": "a0b0ee71",
   "metadata": {},
   "outputs": [
    {
     "name": "stdout",
     "output_type": "stream",
     "text": [
      "    Student ID  Sex  Math Score\n",
      "30          31    0          99\n",
      "53          54    0          91\n",
      "33          34    0          89\n",
      "76          77    0          86\n",
      "40          41    0          83\n",
      "44          45    0          82\n",
      "34          35    0          82\n",
      "16          17    0          82\n",
      "61          62    0          81\n",
      "75          76    0          74\n",
      "81          82    0          72\n",
      "51          52    0          69\n",
      "86          87    0          69\n",
      "38          39    0          69\n",
      "56          57    0          68\n",
      "79          80    0          66\n",
      "71          72    0          66\n",
      "88          89    0          65\n",
      "22          23    0          64\n",
      "78          79    0          63\n",
      "87          88    0          60\n",
      "49          50    0          54\n",
      "83          84    0          53\n",
      "54          55    0          53\n",
      "63          64    0          52\n",
      "97          98    0          52\n",
      "35          36    0          51\n",
      "1            2    0          49\n",
      "32          33    0          49\n",
      "92          93    0          46\n",
      "20          21    0          42\n",
      "24          25    0          42\n",
      "37          38    0          38\n",
      "13          14    0          34\n",
      "2            3    0          27\n",
      "3            4    0          25\n",
      "46          47    0          25\n",
      "58          59    0          24\n",
      "14          15    0          24\n",
      "68          69    0          22\n",
      "95          96    0          21\n",
      "62          63    0          21\n",
      "21          22    0          20\n",
      "15          16    0          19\n",
      "27          28    0          19\n",
      "57          58    0          18\n",
      "69          70    0          16\n",
      "11          12    0          15\n",
      "72          73    0          15\n",
      "45          46    0          12\n",
      "91          92    0           6\n",
      "64          65    0           5\n",
      "73          74    0           1\n"
     ]
    }
   ],
   "source": [
    "\n",
    "\n",
    "male_students = df[df[\"Sex\"] == 1]\n",
    "# Sort the male students by their math scores in descending order\n",
    "\n",
    "\n",
    "# sort the male students by math score in descending order\n",
    "sorted_male_df = male_df.sort_values(by=\"Math Score\", ascending=False)\n",
    "\n",
    "# display the sorted data\n",
    "print(sorted_male_df)\n",
    "\n"
   ]
  },
  {
   "cell_type": "markdown",
   "id": "3f07696d",
   "metadata": {},
   "source": [
    "## Top 10 Females Student "
   ]
  },
  {
   "cell_type": "code",
   "execution_count": 19,
   "id": "c481f036",
   "metadata": {},
   "outputs": [
    {
     "data": {
      "text/plain": [
       "array([[31,  0, 99],\n",
       "       [54,  0, 91],\n",
       "       [34,  0, 89],\n",
       "       [77,  0, 86],\n",
       "       [41,  0, 83],\n",
       "       [17,  0, 82],\n",
       "       [45,  0, 82],\n",
       "       [35,  0, 82],\n",
       "       [62,  0, 81],\n",
       "       [76,  0, 74]])"
      ]
     },
     "execution_count": 19,
     "metadata": {},
     "output_type": "execute_result"
    }
   ],
   "source": [
    "\n",
    "# I wanted the use the np.where function but i was not getting it \n",
    "Female_students = student_data[student_data[:, 1] == 0]\n",
    "\n",
    "\n",
    "# Sort the Female students by their math scores in descending order\n",
    "Female_students_descending = Female_students[Female_students[:, 2].argsort()[::-1]]\n",
    "\n",
    "Female_students_descending [:10]"
   ]
  },
  {
   "cell_type": "code",
   "execution_count": null,
   "id": "8717c5f4",
   "metadata": {},
   "outputs": [],
   "source": []
  }
 ],
 "metadata": {
  "kernelspec": {
   "display_name": "Python 3 (ipykernel)",
   "language": "python",
   "name": "python3"
  },
  "language_info": {
   "codemirror_mode": {
    "name": "ipython",
    "version": 3
   },
   "file_extension": ".py",
   "mimetype": "text/x-python",
   "name": "python",
   "nbconvert_exporter": "python",
   "pygments_lexer": "ipython3",
   "version": "3.9.12"
  }
 },
 "nbformat": 4,
 "nbformat_minor": 5
}
